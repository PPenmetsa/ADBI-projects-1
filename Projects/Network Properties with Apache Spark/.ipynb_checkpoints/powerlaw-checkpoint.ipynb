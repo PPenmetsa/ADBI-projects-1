{
 "cells": [
  {
   "cell_type": "code",
   "execution_count": 15,
   "metadata": {},
   "outputs": [],
   "source": [
    "import pandas as pd\n",
    "import numpy as np\n",
    "import matplotlib.pyplot as plt\n",
    "%matplotlib inline"
   ]
  },
  {
   "cell_type": "code",
   "execution_count": 37,
   "metadata": {},
   "outputs": [],
   "source": [
    "df = pd.read_csv('amazon.graph.small.csv')\n",
    "df = df.drop(df.columns[0],axis=1)\n",
    "x = np.array(df[df.columns[0]].to_list())\n",
    "y = np.array(df[df.columns[1]].to_list())\n",
    "x_new = np.linspace(x[0],x[-1], 100)"
   ]
  },
  {
   "cell_type": "code",
   "execution_count": 41,
   "metadata": {},
   "outputs": [
    {
     "ename": "IndentationError",
     "evalue": "unindent does not match any outer indentation level (<tokenize>, line 16)",
     "output_type": "error",
     "traceback": [
      "\u001b[1;36m  File \u001b[1;32m\"<tokenize>\"\u001b[1;36m, line \u001b[1;32m16\u001b[0m\n\u001b[1;33m    ylabel='Probability that Reputation is Greater than X')\u001b[0m\n\u001b[1;37m    ^\u001b[0m\n\u001b[1;31mIndentationError\u001b[0m\u001b[1;31m:\u001b[0m unindent does not match any outer indentation level\n"
     ]
    }
   ],
   "source": [
    "ccdf = y.astype(float) / y.max()\n",
    "\n",
    "# Fit a line in log-space\n",
    "logx = np.log(x)\n",
    "logy = np.log(ccdf)\n",
    "params = np.polyfit(logx, logy, 1)\n",
    "est = np.exp(np.polyval(params, logx))\n",
    "\n",
    "fig, ax = plt.subplots()\n",
    "ax.loglog(x, ccdf, color='lightblue', ls='', marker='o',\n",
    "          clip_on=False, zorder=10, label='Observations')\n",
    "\n",
    "ax.plot(x, est, color='salmon', label='Fit', ls='--')\n",
    "\n",
    "ax.set(xlabel='Reputation', title='CCDF of Stackoverflow Reputation',\n",
    "       ylabel='Probability that Reputation is Greater than X')\n",
    "\n",
    "plt.show()"
   ]
  },
  {
   "cell_type": "code",
   "execution_count": null,
   "metadata": {},
   "outputs": [],
   "source": []
  }
 ],
 "metadata": {
  "kernelspec": {
   "display_name": "Python 3",
   "language": "python",
   "name": "python3"
  },
  "language_info": {
   "codemirror_mode": {
    "name": "ipython",
    "version": 3
   },
   "file_extension": ".py",
   "mimetype": "text/x-python",
   "name": "python",
   "nbconvert_exporter": "python",
   "pygments_lexer": "ipython3",
   "version": "3.7.2"
  }
 },
 "nbformat": 4,
 "nbformat_minor": 2
}
