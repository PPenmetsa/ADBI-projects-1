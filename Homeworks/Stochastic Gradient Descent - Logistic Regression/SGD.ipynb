{
 "cells": [
  {
   "cell_type": "markdown",
   "metadata": {},
   "source": [
    "# Stochastic Gradient Descent for Logistic Regression Problem\n",
    "### Author: Rachit Shah (rshah25)"
   ]
  },
  {
   "cell_type": "code",
   "execution_count": 1,
   "metadata": {},
   "outputs": [],
   "source": [
    "#Requirements\n",
    "from sklearn import datasets\n",
    "import math\n",
    "import numpy as np\n",
    "from sklearn.model_selection import train_test_split\n",
    "from sklearn.preprocessing import MinMaxScaler"
   ]
  },
  {
   "cell_type": "code",
   "execution_count": 2,
   "metadata": {},
   "outputs": [],
   "source": [
    "#Sigmoid Function\n",
    "def sigmoid(x):\n",
    "    return 1/(1+math.exp(-x))\n",
    "\n",
    "#Predict y based on new features\n",
    "def predict(features,betas):\n",
    "    yp = np.dot(betas, np.append(features, 1))\n",
    "    return sigmoid(yp)"
   ]
  },
  {
   "cell_type": "markdown",
   "metadata": {},
   "source": [
    "## Stochastic gradient descent:\n",
    "\n",
    "$weights \\leftarrow weights - learningRate \\cdot (predict(X_i) - actualy_i) \\cdot X_i$"
   ]
  },
  {
   "cell_type": "code",
   "execution_count": 3,
   "metadata": {},
   "outputs": [],
   "source": [
    "def update_weights(betas,x,y,lr):\n",
    "    yp = predict(x,betas)\n",
    "    betas -= lr * (yp-y) * np.append(x,1)\n",
    "    \n",
    "def train_sgd(X,y,lr,epochs):\n",
    "    betas = np.zeros(X.shape[1] + 1)\n",
    "    for epoch in range(epochs):\n",
    "        for i in range(X.shape[0]):\n",
    "            update_weights(betas, X[i,:], y[i], lr)\n",
    "    return betas\n",
    "    "
   ]
  },
  {
   "cell_type": "code",
   "execution_count": 4,
   "metadata": {},
   "outputs": [],
   "source": [
    "#Test Code on Dummy dataset (Breast Cancer dataset from scikit-learn datasets with 2 classes)\n",
    "def main():\n",
    "    #Import Dataset\n",
    "    dataset = datasets.load_breast_cancer()\n",
    "    X = dataset.data\n",
    "    y = dataset.target\n",
    "\n",
    "    #Split train and test sets\n",
    "    X_train, X_test, y_train, y_test = train_test_split(X, y, test_size=0.33, random_state=123)\n",
    "    \n",
    "    #normalize all features to 0 and 1 values\n",
    "    scaler = MinMaxScaler()\n",
    "    scaler.fit(X_train)\n",
    "    X_train = scaler.transform(X_train)\n",
    "\n",
    "    #Learning Rate and Number of Epochs\n",
    "    lr = 0.001\n",
    "    epochs = 100\n",
    "\n",
    "    #Train\n",
    "    betas = train_sgd(X_train,y_train,lr,epochs)\n",
    "    \n",
    "    #Normalize test set too\n",
    "    scaler.fit(X_test)\n",
    "    X_test = scaler.transform(X_test)\n",
    "\n",
    "    #Get accuracy on test data\n",
    "    test_predictions = [round(predict(x,betas)) for x in X_test]\n",
    "    test_predictions\n",
    "    accuracy = sum([test_predictions[i]==y_test[i] for i in range(len(y_test))])/len(y_test)\n",
    "    print(\"Accuracy =\",accuracy)"
   ]
  },
  {
   "cell_type": "code",
   "execution_count": 5,
   "metadata": {},
   "outputs": [
    {
     "name": "stdout",
     "output_type": "stream",
     "text": [
      "Accuracy = 0.9574468085106383\n"
     ]
    }
   ],
   "source": [
    "if __name__ == '__main__':\n",
    "    main()"
   ]
  },
  {
   "cell_type": "code",
   "execution_count": null,
   "metadata": {},
   "outputs": [],
   "source": []
  }
 ],
 "metadata": {
  "kernelspec": {
   "display_name": "Python 3",
   "language": "python",
   "name": "python3"
  },
  "language_info": {
   "codemirror_mode": {
    "name": "ipython",
    "version": 3
   },
   "file_extension": ".py",
   "mimetype": "text/x-python",
   "name": "python",
   "nbconvert_exporter": "python",
   "pygments_lexer": "ipython3",
   "version": "3.7.1"
  }
 },
 "nbformat": 4,
 "nbformat_minor": 2
}
